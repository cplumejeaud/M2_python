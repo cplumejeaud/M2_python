{
 "cells": [
  {
   "cell_type": "markdown",
   "metadata": {},
   "source": [
    "# Reading data from port API\n",
    "\n",
    "URL = http://data.portic.fr/api/ports?param=&shortenfields=false&both_to=false&date=1787\n"
   ]
  },
  {
   "cell_type": "code",
   "execution_count": null,
   "metadata": {},
   "outputs": [],
   "source": [
    "import json\n",
    "import pandas as pd\n",
    "import geopandas as gpd\n",
    "\n",
    "import requests"
   ]
  },
  {
   "cell_type": "code",
   "execution_count": null,
   "metadata": {},
   "outputs": [],
   "source": [
    "data_local = False\n",
    "if data_local : \n",
    "    #filename = \"C:\\Travail\\Enseignement\\Cours_M2_python\\Exemple\\ports.json\"\n",
    "    filename = \"C:/Travail/Enseignement/Cours_M2_python/2023/code/resultats/export3_port_geojson.geojson\"\n",
    "    output = open(filename, \"r\")\n",
    "    data = json.load(output)\n",
    "else:\n",
    "    \n",
    "    ## https://requests.readthedocs.io/en/latest/\n",
    "    url = \"http://data.portic.fr/api/ports/?shortenfields=false&both_to=false&date=1787\"\n",
    "    r = requests.get(url)\n",
    "    #print(r.text)\n",
    "    print(type(r.json()))\n",
    "    data = r.json()"
   ]
  },
  {
   "cell_type": "code",
   "execution_count": null,
   "metadata": {},
   "outputs": [],
   "source": [
    "data"
   ]
  },
  {
   "cell_type": "code",
   "execution_count": null,
   "metadata": {},
   "outputs": [],
   "source": [
    "#data is of <class 'list'>\n",
    "df = pd.DataFrame(data)\n",
    "\n",
    "print(df.shape) #(1700, 25)\n",
    "#print(df.head())"
   ]
  },
  {
   "cell_type": "code",
   "execution_count": null,
   "metadata": {},
   "outputs": [],
   "source": [
    "print(df.admiralty.unique())\n",
    "print(df.admiralty.unique().size)\n",
    "print(df.admiralty.isnull().values.any()) #True \n",
    "\n"
   ]
  },
  {
   "cell_type": "code",
   "execution_count": null,
   "metadata": {},
   "outputs": [],
   "source": [
    "print(df.state_1789_fr.isnull().values.any()) #True \n"
   ]
  },
  {
   "cell_type": "markdown",
   "metadata": {},
   "source": [
    "## Dealing with null values"
   ]
  },
  {
   "cell_type": "code",
   "execution_count": null,
   "metadata": {},
   "outputs": [],
   "source": [
    "# Dealing with null values\n",
    "df.admiralty.isnull().values.any() #True \n",
    "values = {'admiralty': 'X', 'state_1789_fr' : 'UNKNOWN'}\n",
    "#values = {'admiralty': 'X'}\n",
    "df = df.fillna(value=values)\n",
    "df.admiralty.isnull().values.any() #False "
   ]
  },
  {
   "cell_type": "code",
   "execution_count": null,
   "metadata": {},
   "outputs": [],
   "source": [
    "# Listing of admiralties\n",
    "print(df.admiralty.unique().size) #71\n",
    "df.admiralty.unique() \n"
   ]
  },
  {
   "cell_type": "markdown",
   "metadata": {},
   "source": [
    "## Group by - agrégat"
   ]
  },
  {
   "cell_type": "code",
   "execution_count": null,
   "metadata": {},
   "outputs": [],
   "source": [
    "# How many ports by admiralty ?\n",
    "res = df.groupby('admiralty')['ogc_fid'].count()\n",
    "print(res)\n",
    "\n",
    "\n",
    "type(res)\n",
    "res.to_csv('nb_port_par_amiraute.csv')"
   ]
  },
  {
   "cell_type": "code",
   "execution_count": null,
   "metadata": {},
   "outputs": [],
   "source": [
    "res.to_excel('nb_port_par_amiraute.xls')"
   ]
  },
  {
   "cell_type": "code",
   "execution_count": null,
   "metadata": {},
   "outputs": [],
   "source": [
    "# How many ports by state_1789_fr ?\n",
    "res = df.groupby('state_1789_fr')['ogc_fid'].count()\n",
    "print(res)\n",
    "#Attention, il reste des valeurs null pour les états\n",
    "print(df.state_1789_fr.isnull().values.any()) #True "
   ]
  },
  {
   "cell_type": "markdown",
   "metadata": {},
   "source": [
    "# Map with folium"
   ]
  },
  {
   "cell_type": "code",
   "execution_count": null,
   "metadata": {},
   "outputs": [],
   "source": [
    "import folium"
   ]
  },
  {
   "cell_type": "markdown",
   "metadata": {},
   "source": [
    "### Solution 01"
   ]
  },
  {
   "cell_type": "code",
   "execution_count": null,
   "metadata": {},
   "outputs": [],
   "source": [
    "m = folium.Map(location=[46.34015, 2.60254], zoom_start=6, tiles=\"cartodb positron\")\n",
    "#filter\n",
    "subset=df[df['state_1789_fr']=='France']\n",
    "subset.reset_index(drop=True, inplace=True)\n",
    "\n",
    "a=subset.toponym\n",
    "b=subset.long\n",
    "c=subset.lat\n",
    "\n",
    "for i in range(len((subset.toponym))):\n",
    "    folium.Marker(\n",
    "        location=[c[i], b[i]],\n",
    "        popup=a[i],\n",
    "        icon=folium.Icon(icon=\"Waypoint\"),\n",
    "    ).add_to(m)\n",
    "\n",
    "\n",
    "\n",
    "m.save(\"map_portic_01.html\")"
   ]
  },
  {
   "cell_type": "markdown",
   "metadata": {},
   "source": [
    "### Solution 02"
   ]
  },
  {
   "cell_type": "code",
   "execution_count": null,
   "metadata": {},
   "outputs": [],
   "source": [
    "import numpy as np\n",
    "\n",
    "longitudes = np.array(df.loc[df['state_1789_fr'] == 'France']['long'])\n",
    "latitudes = np.array(df.loc[df['state_1789_fr'] == 'France']['lat'])\n",
    "names = np.array(df.loc[df['state_1789_fr'] == 'France']['toponym'])\n",
    "\n",
    "# Code carte\n",
    "\n",
    "m = folium.Map(location=[49.49437, 0.107929], zoom_start=3, tiles=\"cartodb positron\") #, tiles=\"Stamen Terrain\"\n",
    "\n",
    "\n",
    "for i in range(len(latitudes)):\n",
    "    folium.CircleMarker(\n",
    "    location=[latitudes[i], longitudes[i]],\n",
    "    radius=5,\n",
    "    popup=names[i],\n",
    "    color=\"#3186cc\",\n",
    "    fill=True,\n",
    "    fill_color=\"#3186cc\",\n",
    ").add_to(m)\n",
    "\n",
    "m"
   ]
  },
  {
   "cell_type": "markdown",
   "metadata": {},
   "source": [
    "### Solution 03"
   ]
  },
  {
   "cell_type": "code",
   "execution_count": null,
   "metadata": {},
   "outputs": [],
   "source": [
    "m = folium.Map(location=[46.156089, -1.156176], tiles=\"cartodb positron\" ) #tiles=\"Stamen Watercolor\"\n",
    "m.add_child(folium.LatLngPopup())\n",
    "m.add_child(folium.ClickForMarker(popup=\"Waypoint\"))\n",
    "\n",
    "for x,y,name,state,adm in zip(df.long,df.lat,df.toponyme_standard_fr,df.state_1789_fr,df.admiralty):\n",
    "    if state=='France':\n",
    "        folium.Marker([y, x], popup=f\"<i>{adm}</i>\", tooltip=name,icon=folium.Icon(color=\"green\")).add_to(m)\n",
    "    else:\n",
    "        folium.Marker([y, x], popup=f\"<i>{adm}</i>\", tooltip=name).add_to(m)\n",
    "m"
   ]
  },
  {
   "cell_type": "markdown",
   "metadata": {},
   "source": [
    "## A la manière de mes élèves\n",
    "\n",
    "- Avec un fond standard cartodb positron"
   ]
  },
  {
   "cell_type": "code",
   "execution_count": null,
   "metadata": {},
   "outputs": [],
   "source": [
    "import folium\n",
    "from folium.plugins import MarkerCluster\n",
    "\n",
    "# Centrer sur 49.49437, 0.107929\n",
    "\n",
    "m = folium.Map(location=(49.49437, 0.107929), zoom_start=4, tiles=\"cartodb positron\", width=1200, height=800)\n",
    "\n",
    "\n",
    "\n",
    "## add markers for chef-lieux \n",
    "group_1 = folium.FeatureGroup(\"ports\").add_to(m)\n",
    "\n",
    "\n",
    "#popup_content = '<table><tr><td>Nom</td><td>{0}</td></tr><tr><td>Statut</td><td>{1}</td></tr><tr><td>Amirauté</td><td>{2}</td></tr><tr><td>Pays 1789</td><td>{3}</td></tr></table>'\n",
    "\n",
    "for index, row in df.iterrows() :\n",
    "    #position des markers  : [latitude, longitude]\n",
    "    folium.Marker(\n",
    "        location=[row.y, row.x], #geoms[0].\n",
    "        tooltip=row.toponyme_standard_fr,\n",
    "        popup=row.admiralty,\n",
    "        #popup_content.format(row.toponyme_standard_fr, row.status, row.admiralty, row.state_1789_fr),\n",
    "        icon=folium.Icon(color=\"green\"),\n",
    "    ).add_to(group_1)\n",
    "    \n",
    "\n",
    "folium.LayerControl().add_to(m)\n",
    "\n",
    "m"
   ]
  },
  {
   "cell_type": "markdown",
   "metadata": {},
   "source": [
    "## Enrichir la carte\n",
    "\n",
    "- Rajouter une fonction de clustering\n",
    "- mettre un fond Stamen (tile)\n",
    "\n",
    "https://python-visualization.github.io/folium/latest/user_guide/plugins/marker_cluster.html"
   ]
  },
  {
   "cell_type": "code",
   "execution_count": null,
   "metadata": {},
   "outputs": [],
   "source": [
    "import folium\n",
    "from folium.plugins import MarkerCluster\n",
    "import xyzservices\n",
    "\n",
    "smithsonian_provider = xyzservices.TileProvider (\n",
    "    name=\"Stamen maps, hosted by Smithsonian\",\n",
    "    url=\"https://watercolormaps.collection.cooperhewitt.org/tile/watercolor/{z}/{x}/{y}.jpg\",\n",
    "    attribution=\"(C) Stamen Design\",\n",
    ")\n",
    "\n",
    "# Centrer sur 49.49437, 0.107929\n",
    "\n",
    "m = folium.Map(location=(49.49437, 0.107929), zoom_start=4, tiles=smithsonian_provider, width=1200, height=800)\n",
    "\n",
    "marker_cluster = MarkerCluster().add_to(m)\n",
    "\n",
    "\n",
    "## add markers for chef-lieux \n",
    "group_1 = folium.FeatureGroup(\"ports\").add_to(m)\n",
    "\n",
    "\n",
    "#popup_content = '<table><tr><td>Nom</td><td>{0}</td></tr><tr><td>Statut</td><td>{1}</td></tr><tr><td>Amirauté</td><td>{2}</td></tr><tr><td>Pays 1789</td><td>{3}</td></tr></table>'\n",
    "\n",
    "for index, row in df.iterrows() :\n",
    "    #position des markers  : [latitude, longitude]\n",
    "    folium.Marker(\n",
    "        location=[row.y, row.x], #geoms[0].\n",
    "        tooltip=row.toponyme_standard_fr,\n",
    "        popup=row.admiralty,\n",
    "        #popup_content.format(row.toponyme_standard_fr, row.status, row.admiralty, row.state_1789_fr),\n",
    "        icon=folium.Icon(color=\"green\"),\n",
    "    ).add_to(marker_cluster)\n",
    "    \n",
    "\n",
    "folium.LayerControl().add_to(m)\n",
    "\n",
    "m"
   ]
  },
  {
   "cell_type": "markdown",
   "metadata": {},
   "source": [
    "### Solution de Geoffrey\n",
    "Usage d'icônes personnalisées"
   ]
  },
  {
   "cell_type": "code",
   "execution_count": null,
   "metadata": {},
   "outputs": [],
   "source": [
    "dt_lr = df[df.admiralty == 'La Rochelle']\n",
    "dt_fr = df[df.state_1789_fr == 'France']\n",
    "dt_autre = df[df.state_1789_fr != 'France']\n",
    "\n",
    "svg_boat_fr = '''\n",
    "<svg xmlns=\"http://www.w3.org/2000/svg\" height=\"24\" width=\"27\" viewBox=\"0 0 576 512\"><!--!Font Awesome Free 6.6.0 by @fontawesome - https://fontawesome.com License - https://fontawesome.com/license/free Copyright 2024 Fonticons, Inc.--><path fill=\"#171593\" d=\"M320 96a32 32 0 1 1 -64 0 32 32 0 1 1 64 0zm21.1 80C367 158.8 384 129.4 384 96c0-53-43-96-96-96s-96 43-96 96c0 33.4 17 62.8 42.9 80L224 176c-17.7 0-32 14.3-32 32s14.3 32 32 32l32 0 0 208-48 0c-53 0-96-43-96-96l0-6.1 7 7c9.4 9.4 24.6 9.4 33.9 0s9.4-24.6 0-33.9L97 263c-9.4-9.4-24.6-9.4-33.9 0L7 319c-9.4 9.4-9.4 24.6 0 33.9s24.6 9.4 33.9 0l7-7 0 6.1c0 88.4 71.6 160 160 160l80 0 80 0c88.4 0 160-71.6 160-160l0-6.1 7 7c9.4 9.4 24.6 9.4 33.9 0s9.4-24.6 0-33.9l-56-56c-9.4-9.4-24.6-9.4-33.9 0l-56 56c-9.4 9.4-9.4 24.6 0 33.9s24.6 9.4 33.9 0l7-7 0 6.1c0 53-43 96-96 96l-48 0 0-208 32 0c17.7 0 32-14.3 32-32s-14.3-32-32-32l-10.9 0z\"/></svg>\n",
    "'''\n",
    "\n",
    "svg_boat_autre = '''\n",
    "<svg xmlns=\"http://www.w3.org/2000/svg\" height=\"24\" width=\"27\" viewBox=\"0 0 576 512\"><!--!Font Awesome Free 6.6.0 by @fontawesome - https://fontawesome.com License - https://fontawesome.com/license/free Copyright 2024 Fonticons, Inc.--><path fill=\"#931515\" d=\"M320 96a32 32 0 1 1 -64 0 32 32 0 1 1 64 0zm21.1 80C367 158.8 384 129.4 384 96c0-53-43-96-96-96s-96 43-96 96c0 33.4 17 62.8 42.9 80L224 176c-17.7 0-32 14.3-32 32s14.3 32 32 32l32 0 0 208-48 0c-53 0-96-43-96-96l0-6.1 7 7c9.4 9.4 24.6 9.4 33.9 0s9.4-24.6 0-33.9L97 263c-9.4-9.4-24.6-9.4-33.9 0L7 319c-9.4 9.4-9.4 24.6 0 33.9s24.6 9.4 33.9 0l7-7 0 6.1c0 88.4 71.6 160 160 160l80 0 80 0c88.4 0 160-71.6 160-160l0-6.1 7 7c9.4 9.4 24.6 9.4 33.9 0s9.4-24.6 0-33.9l-56-56c-9.4-9.4-24.6-9.4-33.9 0l-56 56c-9.4 9.4-9.4 24.6 0 33.9s24.6 9.4 33.9 0l7-7 0 6.1c0 53-43 96-96 96l-48 0 0-208 32 0c17.7 0 32-14.3 32-32s-14.3-32-32-32l-10.9 0z\"/></svg>\n",
    "'''\n",
    "\n",
    "\n",
    "m = folium.Map()\n",
    "\n",
    "for index, row in dt_fr.iterrows():  # Utilisation de iterrows pour parcourir chaque ligne du DataFrame\n",
    "    folium.Marker(\n",
    "        location=[row.y, row.x],  # Latitude et longitude\n",
    "        tooltip=row.toponyme_standard_en,  # Tooltip affiché au survol\n",
    "        popup=f\"Location: {row.toponyme_standard_en}\",  # Popup à afficher lorsque le marqueur est cliqué\n",
    "        icon=folium.DivIcon(html=svg_boat_fr),  # Utilisation de DivIcon avec le SVG de bateau\n",
    "    ).add_to(m)\n",
    "    \n",
    "for index, row in dt_autre.iterrows():  # Utilisation de iterrows pour parcourir chaque ligne du DataFrame\n",
    "    folium.Marker(\n",
    "        location=[row.y, row.x],  # Latitude et longitude\n",
    "        tooltip=row.toponyme_standard_en,  # Tooltip affiché au survol\n",
    "        popup=f\"Location: {row.toponyme_standard_en}\",  # Popup à afficher lorsque le marqueur est cliqué\n",
    "        icon=folium.DivIcon(html=svg_boat_autre),  # Utilisation de DivIcon avec le SVG de bateau\n",
    "    ).add_to(m)\n",
    " \n",
    "m   \n",
    "#m.save('map_icones_ancres.html')"
   ]
  },
  {
   "cell_type": "markdown",
   "metadata": {},
   "source": [
    "## Sauver une carte dans un fichier image"
   ]
  },
  {
   "cell_type": "code",
   "execution_count": null,
   "metadata": {},
   "outputs": [],
   "source": [
    "#Save the map to PNG \n",
    "\n",
    "#https://stackoverflow.com/questions/53565979/export-a-folium-map-as-a-png\n",
    "import io\n",
    "from PIL import Image\n",
    "\n",
    "img_data = m._to_png(5)\n",
    "img = Image.open(io.BytesIO(img_data))\n",
    "img.save('carto_ports.png')"
   ]
  },
  {
   "cell_type": "markdown",
   "metadata": {},
   "source": [
    "# Post cours - introduction aux geodataframes"
   ]
  },
  {
   "cell_type": "code",
   "execution_count": null,
   "metadata": {},
   "outputs": [],
   "source": [
    "print(df.columns)\n",
    "df.rename(columns={'x':'long', 'y':'lat'}, inplace=True)\n",
    "print(df.columns)"
   ]
  },
  {
   "cell_type": "code",
   "execution_count": null,
   "metadata": {},
   "outputs": [],
   "source": [
    "# Build a true geopandas dataframe\n",
    "#https://geopandas.org/en/stable/gallery/create_geopandas_from_pandas.html \n",
    "gdf = gpd.GeoDataFrame(\n",
    "    df, geometry=gpd.points_from_xy(df.long, df.lat), crs=\"EPSG:4326\"\n",
    ")\n",
    "\n",
    "print(gdf.columns)\n",
    "type(gdf) #pandas.core.indexes.base.Index"
   ]
  },
  {
   "cell_type": "code",
   "execution_count": null,
   "metadata": {},
   "outputs": [],
   "source": [
    "ports = gdf[['uhgs_id', 'lat', 'long', 'toponyme_standard_fr', 'admiralty', 'status', 'province', 'substate_1789_fr', 'state_1789_fr', 'geometry']]\n",
    "print(ports.shape)#1700 rows, 10 cols\n",
    "type(ports) #geopandas.geodataframe.GeoDataFrame"
   ]
  },
  {
   "cell_type": "markdown",
   "metadata": {},
   "source": [
    "## Map with geopandas"
   ]
  },
  {
   "cell_type": "code",
   "execution_count": null,
   "metadata": {},
   "outputs": [],
   "source": [
    "# Map with geopandas\n",
    "import matplotlib.pyplot as plt\n",
    "\n",
    "world = gpd.read_file(\"C:/Travail/Enseignement/Cours_M2_python/2023/data/ne_earth_physical_land/ne_110m_land.shp\")\n",
    "\n",
    "\n",
    "fig, ax = plt.subplots()\n",
    "world.plot(ax=ax, color='white', edgecolor='black')\n",
    "ports.plot(ax=ax, marker='o', color='red', markersize=5)\n",
    "plt.show()\n"
   ]
  },
  {
   "cell_type": "markdown",
   "metadata": {},
   "source": [
    "## Map with folium"
   ]
  },
  {
   "cell_type": "code",
   "execution_count": null,
   "metadata": {},
   "outputs": [],
   "source": [
    "import folium\n",
    "\n",
    "# Centrer sur 49.49437, 0.107929\n",
    "\n",
    "m = folium.Map(location=(49.49437, 0.107929), zoom_start=4, tiles=\"cartodb positron\", width=1200, height=800)\n",
    "\n",
    "\n",
    "## add markers for chef-lieux \n",
    "group_1 = folium.FeatureGroup(\"ports\").add_to(m)\n",
    "\n",
    "\n",
    "popup_content = '<table><tr><td>Nom</td><td>{0}</td></tr><tr><td>Statut</td><td>{1}</td></tr><tr><td>Amirauté</td><td>{2}</td></tr><tr><td>Pays 1789</td><td>{3}</td></tr></table>'\n",
    "\n",
    "for index, row in ports.iterrows() :\n",
    "    #position des markers  : [latitude, longitude]\n",
    "    folium.Marker(\n",
    "        location=[row.geometry.coords[0][1], row.geometry.coords[0][0]], #geoms[0].\n",
    "        tooltip=row.toponyme_standard_fr,\n",
    "        popup=popup_content.format(row.toponyme_standard_fr, row.status, row.admiralty, row.state_1789_fr),\n",
    "        icon=folium.Icon(color=\"green\"),\n",
    "    ).add_to(group_1)\n",
    "    \n",
    "group_2 = folium.FeatureGroup(\"Monde\").add_to(m)\n",
    "\n",
    "\n",
    "for _, r in world.iterrows():\n",
    "    # Without simplifying the representation of each borough,\n",
    "    # the map might not be displayed\n",
    "    sim_geo = gpd.GeoSeries(r[\"geometry\"]).simplify(tolerance=0.001)\n",
    "    geo_j = sim_geo.to_json()\n",
    "    geo_j = folium.GeoJson(data=geo_j, style_function=lambda x: {\"fillColor\": \"#00000000\", \"color\": \"#00FFFFFF\"})\n",
    "    #folium.Popup(r[\"zone_etude\"]).add_to(geo_j)\n",
    "    geo_j.add_to(group_2)\n",
    "    \n",
    "folium.LayerControl().add_to(m)\n",
    "\n",
    "m"
   ]
  }
 ],
 "metadata": {
  "kernelspec": {
   "display_name": "Python 3",
   "language": "python",
   "name": "python3"
  },
  "language_info": {
   "codemirror_mode": {
    "name": "ipython",
    "version": 3
   },
   "file_extension": ".py",
   "mimetype": "text/x-python",
   "name": "python",
   "nbconvert_exporter": "python",
   "pygments_lexer": "ipython3",
   "version": "3.10.6"
  }
 },
 "nbformat": 4,
 "nbformat_minor": 2
}
