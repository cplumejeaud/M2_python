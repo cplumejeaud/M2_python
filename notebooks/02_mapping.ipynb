{
 "cells": [
  {
   "cell_type": "markdown",
   "id": "df96a0a7",
   "metadata": {},
   "source": [
    "# Mapping with geopandas\n",
    "\n",
    "https://geopandas.org/en/stable/docs/user_guide/mapping.html\n"
   ]
  },
  {
   "cell_type": "code",
   "execution_count": null,
   "id": "24f4ffb8",
   "metadata": {},
   "outputs": [],
   "source": [
    "import geopandas as gpd\n",
    "import matplotlib.pyplot as plt"
   ]
  },
  {
   "cell_type": "code",
   "execution_count": null,
   "id": "4fa894e6",
   "metadata": {},
   "outputs": [],
   "source": [
    "import geodatasets\n"
   ]
  },
  {
   "cell_type": "code",
   "execution_count": null,
   "id": "a950261e",
   "metadata": {},
   "outputs": [],
   "source": [
    "chicago = gpd.read_file(geodatasets.get_path(\"geoda.chicago_commpop\"))\n",
    "chicago.head()"
   ]
  },
  {
   "cell_type": "code",
   "execution_count": null,
   "id": "dc79ebb5",
   "metadata": {},
   "outputs": [],
   "source": [
    "chicago.plot();"
   ]
  },
  {
   "cell_type": "markdown",
   "id": "281f49c2",
   "metadata": {},
   "source": [
    "## Sol 1. Build the geopandas dataframe directly\n",
    "\n",
    "\n"
   ]
  },
  {
   "cell_type": "code",
   "execution_count": null,
   "id": "3107cb93",
   "metadata": {},
   "outputs": [],
   "source": [
    "import pandas as pd\n",
    "\n",
    "df = pd.read_csv(\"C:\\Travail\\Enseignement\\Cours_M2_python\\\\2023\\data\\Kap Hoegh GLS 20102011_sun3_saison.csv\", sep=\";\", encoding='utf-8')\n",
    "\n",
    "df"
   ]
  },
  {
   "cell_type": "code",
   "execution_count": null,
   "id": "4d931141",
   "metadata": {},
   "outputs": [],
   "source": [
    "# A few cleaning before saving the data\n",
    "\n",
    "#1. rename some columns\n",
    "df = df.rename(columns={\"ID\": \"id\", \"date\": \"dategps\", \"time\": \"timegps\", \"Long\" : \"long\", \"Lat_compensate\" : \"lat\"})\n",
    "\n",
    "#2. remove useless columns\n",
    "df = df.drop(['ID_ID', 'Lat1'], axis=1)\n",
    "print(df.columns)\n",
    "df"
   ]
  },
  {
   "cell_type": "code",
   "execution_count": null,
   "id": "eff24586",
   "metadata": {},
   "outputs": [],
   "source": [
    "gps = gpd.GeoDataFrame(\n",
    "    df, geometry=gpd.points_from_xy(df.long, df.lat), crs=\"EPSG:4326\"\n",
    ")\n",
    "\n",
    "print(gps.columns)"
   ]
  },
  {
   "cell_type": "markdown",
   "id": "1acb55e0",
   "metadata": {},
   "source": [
    "## Sol 2. Récupérer le geojson de MapShaper : https://mapshaper.org/ \n",
    "Read the file downloaded from mapshaper \n",
    "\n",
    "file:///C:/Travail/Enseignement/Cours_M2_python/Projet_Arctox/output_arctox_15oct-fev.geojson"
   ]
  },
  {
   "cell_type": "code",
   "execution_count": null,
   "id": "9a5fe88d",
   "metadata": {},
   "outputs": [],
   "source": [
    "# Solution après être allé sur MapShaper\n",
    "gps = gpd.read_file(\"C:/Travail/Enseignement/Cours_M2_python/Projet_Arctox/output_arctox_15oct-fev.geojson\")\n"
   ]
  },
  {
   "cell_type": "code",
   "execution_count": null,
   "id": "cc266562",
   "metadata": {},
   "outputs": [],
   "source": [
    "gps.head()"
   ]
  },
  {
   "cell_type": "markdown",
   "id": "dff3272a",
   "metadata": {},
   "source": [
    "## Premières cartes sans fond"
   ]
  },
  {
   "cell_type": "code",
   "execution_count": null,
   "id": "401d4a08",
   "metadata": {},
   "outputs": [],
   "source": [
    "gps.plot()\n"
   ]
  },
  {
   "cell_type": "code",
   "execution_count": null,
   "id": "fa4ff62d",
   "metadata": {},
   "outputs": [],
   "source": [
    "gps.plot(column=\"week\", legend=True)"
   ]
  },
  {
   "cell_type": "markdown",
   "id": "5fde045c",
   "metadata": {},
   "source": [
    "## Rajouter un fond de carte\n",
    "\n",
    "Télécharger celui de natural earth\n",
    "https://www.naturalearthdata.com/http//www.naturalearthdata.com/download/110m/physical/ne_110m_land.zip\n"
   ]
  },
  {
   "cell_type": "code",
   "execution_count": null,
   "id": "d5e2bfe0",
   "metadata": {},
   "outputs": [],
   "source": [
    "#world = gpd.read_file(\"C:\\Travail\\Enseignement\\Cours_M2_python\\Projet_Arctox\\\\trait_cote_monde_gshhs_i_L1_4326_minified2dec.geojson\")\n",
    "\n",
    "world = gpd.read_file(\"C:/Travail/Enseignement/Cours_M2_python/2023/data/ne_earth_physical_land/ne_110m_land.shp\")\n"
   ]
  },
  {
   "cell_type": "code",
   "execution_count": null,
   "id": "0efdc42f",
   "metadata": {},
   "outputs": [],
   "source": [
    "world.head()"
   ]
  },
  {
   "cell_type": "markdown",
   "id": "f00fef5c",
   "metadata": {},
   "source": [
    "### First method"
   ]
  },
  {
   "cell_type": "code",
   "execution_count": null,
   "id": "c10c15b4",
   "metadata": {},
   "outputs": [],
   "source": [
    "#base = chicago.plot(color='white', edgecolor='black')\n",
    "base = world.plot(color='white', edgecolor='black')\n",
    "gps.plot(ax=base, marker='o', color='red', markersize=5)"
   ]
  },
  {
   "cell_type": "markdown",
   "id": "8e950b4b",
   "metadata": {},
   "source": [
    "## Second method"
   ]
  },
  {
   "cell_type": "code",
   "execution_count": null,
   "id": "85a40ac4",
   "metadata": {},
   "outputs": [],
   "source": [
    "import matplotlib.pyplot as plt\n",
    "\n",
    "fig, ax = plt.subplots()\n",
    "world.plot(ax=ax, color='white', edgecolor='black')\n",
    "gps.plot(ax=ax, marker='o', color='red', markersize=5)\n",
    "plt.show()"
   ]
  },
  {
   "cell_type": "code",
   "execution_count": null,
   "id": "bf906d39",
   "metadata": {},
   "outputs": [],
   "source": [
    "\n",
    "fig, ax = plt.subplots()\n",
    "\n",
    "world.plot(ax=ax, color='white', edgecolor='black')\n",
    "gps.plot(ax=ax, marker='o', markersize=1, column=\"week\", legend=True)\n",
    "\n",
    "plt.show()"
   ]
  }
 ],
 "metadata": {
  "kernelspec": {
   "display_name": "Python 3 (ipykernel)",
   "language": "python",
   "name": "python3"
  },
  "language_info": {
   "codemirror_mode": {
    "name": "ipython",
    "version": 3
   },
   "file_extension": ".py",
   "mimetype": "text/x-python",
   "name": "python",
   "nbconvert_exporter": "python",
   "pygments_lexer": "ipython3",
   "version": "3.10.6"
  }
 },
 "nbformat": 4,
 "nbformat_minor": 5
}
