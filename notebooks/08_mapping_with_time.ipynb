{
 "cells": [
  {
   "cell_type": "markdown",
   "metadata": {},
   "source": [
    "# Mapping through time"
   ]
  },
  {
   "cell_type": "code",
   "execution_count": null,
   "metadata": {},
   "outputs": [],
   "source": [
    "import geopandas as gpd\n",
    "import pandas as pd\n",
    "#from shapely import wkt\n",
    "\n",
    "import branca\n",
    "import folium"
   ]
  },
  {
   "cell_type": "markdown",
   "metadata": {},
   "source": [
    "## Load all data"
   ]
  },
  {
   "cell_type": "code",
   "execution_count": null,
   "metadata": {},
   "outputs": [],
   "source": [
    "## Lire les chefs lieux et les terrains pour l'habillage\n",
    "path_to_geojsonfiles = \"C:/Travail/Enseignement/Cours_M2_python/2023/data/INSEE/\"\n",
    "\n",
    "#Lire les chefs lieux \n",
    "cheflieux_url = (\n",
    "    path_to_geojsonfiles+\"chef-lieux_carto75_2022_2154.geojson\"\n",
    ")\n",
    "\n",
    "cheflieux = gpd.read_file(cheflieux_url) #, where=\"INSEE_DEP='79'\"\n",
    "cheflieux.crs #2154\n",
    "cheflieux = cheflieux.to_crs(\"EPSG:4326\")\n",
    "cheflieux.head()\n",
    "\n",
    "#Lire les terrains\n",
    "terrains = gpd.read_file(path_to_geojsonfiles+\"terrains_imhana_2154.geojson\")\n",
    "type(terrains) #geopandas.geodataframe.GeoDataFrame\n",
    "terrains.crs\n",
    "terrains = terrains.to_crs(\"EPSG:4326\")\n",
    "terrains.head()"
   ]
  },
  {
   "cell_type": "code",
   "execution_count": null,
   "metadata": {},
   "outputs": [],
   "source": [
    "communes_URL = path_to_geojsonfiles+'communes_NA2022_4326.geojson'\n",
    "zones = gpd.read_file(communes_URL)\n",
    "print(zones.shape) #(4309, 6)\n",
    "\n",
    "# Supprimer la colonne id, l'index sauvegardé dans le fichier, mais inutile. \n",
    "\n",
    "zones.drop(['id'], axis=1, inplace=True)\n",
    "print(zones.shape) #(4309, 5)\n",
    "\n",
    "\n",
    "dtype_dict = {'insee_com':'string', 'nom':'string', 'nomepci':'string'} #Il fallait convertir nomepci en string pour faire la jointure avec data\n",
    "zones = zones.astype(dtype = dtype_dict)\n",
    "#zones.set_index('insee_com', inplace=True)\n",
    "\n",
    "zones.head()"
   ]
  },
  {
   "cell_type": "code",
   "execution_count": null,
   "metadata": {},
   "outputs": [],
   "source": [
    "communes_ts = pd.read_csv(path_to_geojsonfiles+'communes_ts_etrangerscommunes.csv')\n",
    "print(communes_ts.shape)\n",
    "dtype_dict = {'code':'string'} #,  'annee_dt':'timestamps'\n",
    "communes_ts = communes_ts.astype(dtype = dtype_dict)\n",
    "communes_ts.head() #7 colonnes"
   ]
  },
  {
   "cell_type": "code",
   "execution_count": null,
   "metadata": {},
   "outputs": [],
   "source": [
    "import json\n",
    "styledict_communes_path = path_to_geojsonfiles+'styledict_communes.json'\n",
    "output = open(styledict_communes_path, \"r\")\n",
    "styledict_communes = json.load(output)\n",
    "styledict_communes"
   ]
  },
  {
   "cell_type": "markdown",
   "metadata": {},
   "source": [
    "## Do the map"
   ]
  },
  {
   "cell_type": "code",
   "execution_count": null,
   "metadata": {},
   "outputs": [],
   "source": [
    "communes_ts.set_index('code', inplace=True) #60326 rows × 7 columns"
   ]
  },
  {
   "cell_type": "code",
   "execution_count": null,
   "metadata": {},
   "outputs": [],
   "source": [
    "test = zones.join(communes_ts,   how='left', on=\"insee_com\") #Jointure sur la column insee_com\t de zones qui égale l'index de communes_ts (code)\n",
    "print(test.shape)\n",
    "\n",
    "test #60326 rows × 11 columns"
   ]
  },
  {
   "cell_type": "code",
   "execution_count": null,
   "metadata": {},
   "outputs": [],
   "source": [
    "#Important pour le slider temporel, spécifier que insee_com est l'index des données de geom \n",
    "communes_geom = zones.set_index('insee_com')\n",
    "communes_geom.head()"
   ]
  },
  {
   "cell_type": "code",
   "execution_count": null,
   "metadata": {},
   "outputs": [],
   "source": [
    "# Look only at the map as background layer\n",
    "#communes_geom = zones\n",
    "ax = communes_geom.plot(figsize=(10, 10))\n",
    "ax"
   ]
  },
  {
   "cell_type": "code",
   "execution_count": null,
   "metadata": {},
   "outputs": [],
   "source": [
    "#https://colorbrewer2.org/#type=diverging&scheme=Spectral&n=6\n",
    "colormap = branca.colormap.StepColormap(\n",
    "    vmin=test[\"petranger\"].quantile(0.0),\n",
    "    vmax=test[\"petranger\"].quantile(1),\n",
    "    colors=['#4a1486', '#1d91c0','#7fcdbb','#fee08b','#fc8d59', '#d53e4f', '#b2182b'],\n",
    "    index=[ test[\"petranger\"].quantile(0.10),test[\"petranger\"].quantile(0.30), test[\"petranger\"].quantile(0.50), test[\"petranger\"].quantile(0.70), test[\"petranger\"].quantile(0.90), test[\"petranger\"].quantile(0.95)],\n",
    "    caption=\"Part d'étrangers (%)\"\n",
    ")\n",
    "\n"
   ]
  },
  {
   "cell_type": "markdown",
   "metadata": {},
   "source": [
    "### Prepare the data (if required ONLY ! )"
   ]
  },
  {
   "cell_type": "code",
   "execution_count": null,
   "metadata": {},
   "outputs": [],
   "source": [
    "## A faire  ssi les colonnes annee_dt, color, opacity n'existent pas dans communes_ts: ajoute des colonnes à communes_ts\n",
    "communes_ts['annee_dt'] = communes_ts['annee'].apply(lambda x: pd.to_datetime(str(x)+'-01-01', format='%Y-%m-%d'))\n",
    "communes_ts['annee_dt'] = communes_ts['annee_dt'].astype(\"int64\")\n",
    "#Division entière par 1000 avec // 1000 : .astype(int) / 10**9\n",
    "communes_ts['annee_dt'] = communes_ts['annee_dt'] // 10 ** 9\n",
    "communes_ts['annee_dt'] = communes_ts['annee_dt'].astype(\"U10\") \n",
    "\n",
    "# Most important : the color is using the colormap defined for whatever the years\n",
    "communes_ts['color'] = communes_ts['petranger'].apply(colormap) \n",
    "communes_ts['opacity'] = 1"
   ]
  },
  {
   "cell_type": "code",
   "execution_count": null,
   "metadata": {},
   "outputs": [],
   "source": [
    "#Construire le dictionnaire de style dont les clés sont les codes insee des communes puis ensuite un couple (couleur, opacité) indexé par l'année, pour chaque entité\n",
    "\n",
    "# Voir https://python-visualization.github.io/folium/latest/user_guide/plugins/timeslider_choropleth.html \n",
    "import numpy as np\n",
    "import datetime\n",
    " \n",
    "styledata = {}\n",
    "\n",
    "for country in communes_ts.index:\n",
    "    df = communes_ts.query(\"code=='{}'\".format(country))\n",
    "    df = df.set_index('annee_dt')\n",
    "    styledata[country] = df[['color', 'opacity']]\n",
    "#3min de temps de calcul  \n",
    "\n",
    "styledict_communes = {\n",
    "    str(country): data.to_dict(orient=\"index\") for country, data in styledata.items()\n",
    "}\n"
   ]
  },
  {
   "cell_type": "markdown",
   "metadata": {},
   "source": [
    "### Use the slider"
   ]
  },
  {
   "cell_type": "code",
   "execution_count": null,
   "metadata": {},
   "outputs": [],
   "source": [
    "#Using a slider\n",
    "\n",
    "# Tuto : https://python-visualization.github.io/folium/latest/user_guide/plugins/timeslider_choropleth.html\n",
    "# Voir aussi https://github.com/germaniuss/folium-timesliderchoropleth pour ajouter des tooltips\n",
    "# https://gis.stackexchange.com/questions/442764/folium-timesliderchoropleth-with-tooltip \n",
    "\n",
    "import branca\n",
    "\n",
    "style_tooltip_txt = \"\"\"\n",
    "            background-color: #F0EFEF;\n",
    "            border: 2px solid black;\n",
    "            border-radius: 3px;\n",
    "            box-shadow: 3px;\n",
    "        \"\"\"\n",
    "    \n",
    "##Minimap\n",
    "from folium.plugins import MiniMap\n",
    "\n",
    "min_lon, max_lon = -2, +2\n",
    "min_lat, max_lat = 43, 47\n",
    "\n",
    "m = folium.Map(location=(45.00, 0.15605), zoom_start=8, tiles=\"cartodb positron\", width=1000, height=1200, \n",
    "        min_lat=min_lat,\n",
    "        max_lat=max_lat,\n",
    "        min_lon=min_lon,\n",
    "        max_lon=max_lon) #45.64844\n",
    "\n",
    "## Titre : https://stackoverflow.com/questions/61928013/adding-a-title-or-text-to-a-folium-map\n",
    "map_title = \"Répartition communale de la population étrangère en Nouvelle-Aquitaine, sur un siècle [1926-2022]\"\n",
    "source_text = \"Données : INSEE [producteur], <a href='https://www.unehistoireduconflitpolitique.fr/telecharger.html'>Cagé-Piketty</a> [diffuseur] <br>&copy IGN Admin Express - millesime 2022 <br> Réalisation UMR 7301 Migrinter, C. Plumejeaud, 05-06-2024\"\n",
    "title_html = f'<h4 style=\"position:absolute;z-index:100000;left:20vh;bottom:95vh;font:bold\" >{map_title}</h4>'\n",
    "source_html = f'<h5 style=\"position:absolute;z-index:100001;left:70vh;bottom:0vw\" >{source_text}</h5>'\n",
    "m.get_root().html.add_child(folium.Element(title_html))\n",
    "m.get_root().html.add_child(folium.Element(source_html))\n",
    "\n",
    "## add markers for chef-lieux \n",
    "group_1 = folium.FeatureGroup(\"chef-lieux\").add_to(m)\n",
    "popup_content = '<table><tr><td>Nom</td><td>{0}</td></tr><tr><td>Statut</td><td>{1}</td></tr><tr><td>Département</td><td>{2}</td></tr><tr><td>Population 2020</td><td>{3}</td></tr></table>'\n",
    "for index, row in cheflieux.iterrows() :\n",
    "    #position des markers  : [latitude, longitude]\n",
    "    folium.Marker(\n",
    "        location=[row.geometry.geoms[0].coords[0][1], row.geometry.geoms[0].coords[0][0]],\n",
    "        tooltip=row.NOM_2,\n",
    "        popup=popup_content.format(row.NOM_2, row.STATUT, row.INSEE_DEP, row.POPULATION),\n",
    "        icon=folium.Icon(color=\"green\"),\n",
    "    ).add_to(group_1)\n",
    "    \n",
    "group_00 = folium.FeatureGroup(\"etrangers_animation\").add_to(m)\n",
    "## Les communes, année 1926 à 2018\n",
    "from folium.plugins import TimeSliderChoropleth\n",
    "\n",
    "TimeSliderChoropleth(\n",
    "    communes_geom.to_json(),\n",
    "    styledict=styledict_communes,\n",
    "    #init_timestamp=-1,\n",
    ").add_to(group_00)\n",
    "\n",
    "group_01 = folium.FeatureGroup(\"Description des communes, 2022\").add_to(m)\n",
    "#colormap(x[\"properties\"][\"petranger\"]) if x[\"properties\"][\"petranger\"] is not None else\n",
    "## Les communes, année 2022, en transparence\n",
    "g = folium.GeoJson(\n",
    "    test.query(\"annee==2022\"),\n",
    "    style_function=lambda x: {\n",
    "        \"fillColor\":  \"transparent\", \n",
    "        \"color\": \"black\", \n",
    "        \"fillOpacity\": 1,\n",
    "        \"weight\": 0.5,\n",
    "        \"opacity\": 0.65\n",
    "    },\n",
    "    ## Bulles avec les infos numériques sur les communes\n",
    "    tooltip=folium.GeoJsonTooltip(\n",
    "        fields=[\"nom\", \"petranger\"],\n",
    "        aliases=[\"Commune:\", \"Estimation étrangers en 2022 (%):\"],\n",
    "        localize=True,\n",
    "        sticky=False,\n",
    "        labels=True,\n",
    "        style=style_tooltip_txt,\n",
    "    )\n",
    ").add_to(group_01)\n",
    "\n",
    "## Les terrains\n",
    "group_2 = folium.FeatureGroup(\"terrains\").add_to(m)\n",
    "# Courtours bleu : #00FFFFFF, blanc  : FFFFFF\n",
    "for _, r in terrains.iterrows():\n",
    "    # Without simplifying the representation of each borough,\n",
    "    # the map might not be displayed\n",
    "    sim_geo = gpd.GeoSeries(r[\"geometry\"]).simplify(tolerance=0.001)\n",
    "    geo_j = sim_geo.to_json()\n",
    "    geo_j = folium.GeoJson(data=geo_j, style_function=lambda x: {\"fillColor\": \"#00000000\", \"color\": \"#000000\"})\n",
    "    folium.Popup(r[\"zone_etude\"]).add_to(geo_j)\n",
    "    geo_j.add_to(group_2)\n",
    "\n",
    "colormap.add_to(m)\n",
    "\n",
    "MiniMap().add_to(m)\n",
    "folium.LayerControl().add_to(m)\n",
    "\n",
    "#4s\n",
    "\n"
   ]
  },
  {
   "cell_type": "code",
   "execution_count": null,
   "metadata": {},
   "outputs": [],
   "source": [
    "# temps d'affichage 9 s  \n",
    "m "
   ]
  },
  {
   "cell_type": "code",
   "execution_count": null,
   "metadata": {},
   "outputs": [],
   "source": [
    "print('Saving the temporal map file...')\n",
    "m.save('ocarto_commune_petranger_animation_1926-2018.html') #10s"
   ]
  }
 ],
 "metadata": {
  "kernelspec": {
   "display_name": "Python 3",
   "language": "python",
   "name": "python3"
  },
  "language_info": {
   "codemirror_mode": {
    "name": "ipython",
    "version": 3
   },
   "file_extension": ".py",
   "mimetype": "text/x-python",
   "name": "python",
   "nbconvert_exporter": "python",
   "pygments_lexer": "ipython3",
   "version": "3.10.6"
  }
 },
 "nbformat": 4,
 "nbformat_minor": 2
}
