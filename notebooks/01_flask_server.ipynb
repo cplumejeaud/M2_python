{
 "cells": [
  {
   "cell_type": "markdown",
   "id": "c12e3406",
   "metadata": {},
   "source": [
    "# Your environnement"
   ]
  },
  {
   "cell_type": "code",
   "execution_count": null,
   "id": "d3be2019",
   "metadata": {},
   "outputs": [],
   "source": [
    "import os\n",
    "print(os.getcwd())"
   ]
  },
  {
   "cell_type": "code",
   "execution_count": null,
   "id": "57d667c5",
   "metadata": {
    "collapsed": true
   },
   "outputs": [],
   "source": [
    "pip install flask_cors, flask_caching "
   ]
  },
  {
   "cell_type": "code",
   "execution_count": null,
   "id": "8866d7d7",
   "metadata": {},
   "outputs": [],
   "source": [
    "pip install xlrd"
   ]
  },
  {
   "cell_type": "markdown",
   "id": "a1cf7252",
   "metadata": {},
   "source": [
    "# First flask server\n",
    "using python 3.10"
   ]
  },
  {
   "cell_type": "code",
   "execution_count": null,
   "id": "2130c824",
   "metadata": {},
   "outputs": [],
   "source": [
    "# -*- coding: utf-8 -*\n",
    "\n",
    "from flask import Flask\n",
    "app = Flask(__name__)\n",
    "\n",
    "\n",
    "@app.route('/')\n",
    "def hello_world():\n",
    "    return 'Hello, World!'\n",
    "\n",
    "\n",
    "if __name__ == '__main__':\n",
    "    app.run(port=5050, debug = False) # Permet de lancer le serveur directement depuis python en exécutant le programme\n"
   ]
  },
  {
   "cell_type": "markdown",
   "id": "46d06361",
   "metadata": {},
   "source": [
    "# A more complicated one : Arctox server"
   ]
  },
  {
   "cell_type": "markdown",
   "id": "6d61abc7",
   "metadata": {},
   "source": [
    "First, read the data"
   ]
  },
  {
   "cell_type": "code",
   "execution_count": null,
   "id": "fbc6824c",
   "metadata": {},
   "outputs": [],
   "source": [
    "import pandas as pd\n",
    "\n",
    "df = pd.read_excel(\"C:\\Travail\\Enseignement\\Cours_M2_python\\Projet_Arctox\\data for analyses_2010_2011_analyses.xls\", \n",
    "                        sheet_name=\"data for analyses_2010_2011_ana\")\n",
    "    \n",
    "## Check header\n",
    "list(df)\n",
    "df.columns"
   ]
  },
  {
   "cell_type": "markdown",
   "id": "ef407894",
   "metadata": {},
   "source": [
    "Now, output the data like json, with a print"
   ]
  },
  {
   "cell_type": "code",
   "execution_count": null,
   "id": "b4eb371f",
   "metadata": {},
   "outputs": [],
   "source": [
    "import pandas as pd\n",
    "import json\n",
    "\n",
    "df = pd.read_excel(\"C:\\Travail\\Enseignement\\Cours_M2_python\\Projet_Arctox\\data for analyses_2010_2011_analyses.xls\", \n",
    "                        sheet_name=\"data for analyses_2010_2011_ana\")\n",
    "    \n",
    "## Check header\n",
    "list(df)\n",
    "df.columns\n",
    "\n",
    "jsonx = df.to_json(orient='records')\n",
    "type(jsonx)\n",
    "#print(jsonx)\n",
    "\n",
    "#import json \n",
    "json.dumps(jsonx)"
   ]
  },
  {
   "cell_type": "markdown",
   "id": "fccf808a",
   "metadata": {},
   "source": [
    "Run a flask server on port 80 and give a new route for the app"
   ]
  },
  {
   "cell_type": "code",
   "execution_count": null,
   "id": "bae0df60",
   "metadata": {},
   "outputs": [],
   "source": [
    "#!/usr/bin/python3\n",
    "# -*-coding:UTF-8 -*\n",
    "\n",
    "'''\n",
    "Created on 12 october 2020\n",
    "@author: cplumejeaud, \n",
    "\n",
    "Used to push arctox data on the Web\n",
    "'''\n",
    "\n",
    "from flask import Flask, jsonify, abort, render_template,url_for,request, make_response\n",
    "from flask_cors import CORS, cross_origin\n",
    "from flask_caching import Cache\n",
    "\n",
    "import csv\n",
    "import json\n",
    "import io\n",
    "import os\n",
    "\n",
    "import pandas as pd\n",
    "\n",
    "#APP_ROOT = os.path.dirname(os.path.abspath(__file__))   # refers to application_top\n",
    "#APP_STATIC = os.path.join(APP_ROOT, 'static')\n",
    "#APP_DATA = os.path.join(APP_STATIC, 'data')\n",
    "\n",
    "app = Flask(__name__)\n",
    "#CORS(app)\n",
    "\n",
    "    \n",
    "port = '82'\n",
    "\n",
    "@app.route('/alldata/')\n",
    "def hello_world():\n",
    "    return 'Hello, World! the route is new'\n",
    "\n",
    "\n",
    "\n",
    "if __name__ == '__main__':\n",
    "    app.run(debug=False,port=port,threaded=True)  \n",
    "    #Note that debug=True is a problem inside a jupyter notebook\n",
    "\n"
   ]
  },
  {
   "cell_type": "markdown",
   "id": "c2fcecec",
   "metadata": {},
   "source": [
    "Now, combine the flask server with the data you've read\n",
    "1. create a method  *read_data* that prints or return a dummy sentence (see the difference)\n",
    "2. put the reading of Excel data into this *read_data* method"
   ]
  },
  {
   "cell_type": "code",
   "execution_count": null,
   "id": "ba7fff88",
   "metadata": {},
   "outputs": [],
   "source": [
    "#!/usr/bin/python3\n",
    "# -*-coding:UTF-8 -*\n",
    "\n",
    "'''\n",
    "Created on 12 october 2020\n",
    "@author: cplumejeaud, \n",
    "\n",
    "Used to push arctox data on the Web\n",
    "'''\n",
    "\n",
    "from flask import Flask, jsonify, abort, render_template,url_for,request, make_response\n",
    "from flask_cors import CORS, cross_origin\n",
    "from flask_caching import Cache\n",
    "\n",
    "import csv\n",
    "import json\n",
    "import io\n",
    "import os\n",
    "\n",
    "import pandas as pd\n",
    "\n",
    "#APP_ROOT = os.path.dirname(os.path.abspath(__file__))   # refers to application_top\n",
    "#APP_STATIC = os.path.join(APP_ROOT, 'static')\n",
    "#APP_DATA = os.path.join(APP_STATIC, 'data')\n",
    "\n",
    "app = Flask(__name__)\n",
    "\n",
    "    \n",
    "port = '82'\n",
    "\n",
    "@app.route('/alldata/')\n",
    "def hello_world():\n",
    "    return read_data()\n",
    "\n",
    "def read_data():\n",
    "    #print('the route is new') #This is a bug\n",
    "    return 'The route is really new !'\n",
    "\n",
    "if __name__ == '__main__':\n",
    "    app.run(debug=False,port=port,threaded=True)  \n",
    "    #Note that debug=True is a problem inside a jupyter notebook\n"
   ]
  },
  {
   "cell_type": "markdown",
   "id": "a35f5bc8",
   "metadata": {},
   "source": [
    "Do the whole job"
   ]
  },
  {
   "cell_type": "code",
   "execution_count": null,
   "id": "8087b6d4",
   "metadata": {},
   "outputs": [],
   "source": [
    "#!/usr/bin/python3\n",
    "# -*-coding:UTF-8 -*\n",
    "\n",
    "'''\n",
    "Created on 12 october 2020\n",
    "@author: cplumejeaud, \n",
    "\n",
    "Used to push arctox data on the Web\n",
    "'''\n",
    "\n",
    "from flask import Flask, jsonify, abort, render_template,url_for,request, make_response\n",
    "from flask_cors import CORS, cross_origin\n",
    "from flask_caching import Cache\n",
    "\n",
    "import csv\n",
    "import json\n",
    "import io\n",
    "import os\n",
    "import pprint\n",
    "\n",
    "import pandas as pd\n",
    "\n",
    "#APP_ROOT = os.path.dirname(os.path.abspath(__file__))   # refers to application_top\n",
    "#APP_STATIC = os.path.join(APP_ROOT, 'static')\n",
    "#APP_DATA = os.path.join(APP_STATIC, 'data')\n",
    "\n",
    "app = Flask(__name__)\n",
    "\n",
    "global birds \n",
    "\n",
    "\n",
    "port = '82'\n",
    "\n",
    "@app.route('/')\n",
    "def hello_world():\n",
    "    print('Coucou')\n",
    "    return 'Coucou' \n",
    "\n",
    "@app.route('/data')\n",
    "def flush_json():\n",
    "    print('Flush data')\n",
    "    jsonx = birds.to_json(orient='records')\n",
    "    #print (json.dumps(jsonx, indent=4))\n",
    "    #print(pprint.pprint(jsonx, compact=True))\n",
    "    # print json to screen with human-friendly formatting\n",
    "    return jsonx\n",
    "\n",
    "def read_data():\n",
    "    print('Fichier lu une seule fois')\n",
    "    df = pd.read_excel(\"C:\\Travail\\Enseignement\\Cours_M2_python\\Projet_Arctox\\data for analyses_2010_2011_analyses.xls\", \n",
    "                            sheet_name=\"data for analyses_2010_2011_ana\")\n",
    "    return df\n",
    "\n",
    "if __name__ == '__main__':\n",
    "    birds = read_data()\n",
    "    #print('Fichier lu une seule fois')\n",
    "    app.run(debug=True,port=port,threaded=True)  \n",
    "    #Note that debug=True is a problem inside a jupyter notebook\n"
   ]
  },
  {
   "cell_type": "code",
   "execution_count": null,
   "id": "3e3dc7ce",
   "metadata": {},
   "outputs": [],
   "source": []
  }
 ],
 "metadata": {
  "kernelspec": {
   "display_name": "Python 3 (ipykernel)",
   "language": "python",
   "name": "python3"
  },
  "language_info": {
   "codemirror_mode": {
    "name": "ipython",
    "version": 3
   },
   "file_extension": ".py",
   "mimetype": "text/x-python",
   "name": "python",
   "nbconvert_exporter": "python",
   "pygments_lexer": "ipython3",
   "version": "3.10.6"
  }
 },
 "nbformat": 4,
 "nbformat_minor": 5
}
