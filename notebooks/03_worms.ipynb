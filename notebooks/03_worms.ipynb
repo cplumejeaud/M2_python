{
 "cells": [
  {
   "cell_type": "code",
   "execution_count": null,
   "id": "cfa01dd8",
   "metadata": {},
   "outputs": [],
   "source": [
    "from SOAPpy import WSDL\n",
    "#can't work in 3.10 because of version\n",
    "#pip install SOAPpy, version"
   ]
  },
  {
   "cell_type": "markdown",
   "id": "1c8e44bd",
   "metadata": {},
   "source": [
    "# Do a request on Worms to get species data\n",
    "\n",
    "URL for the example : https://www.marinespecies.org/rest/AphiaRecordByAphiaID/138675\n",
    " "
   ]
  },
  {
   "cell_type": "code",
   "execution_count": null,
   "id": "b32cee3c",
   "metadata": {},
   "outputs": [],
   "source": [
    "import json\n",
    "import pandas as pd\n",
    "import requests\n",
    "\n",
    "#Init a dataframe\n",
    "df = []\n",
    "\n",
    "# Get a record for one APHIAID\n",
    "url = \"https://www.marinespecies.org/rest/AphiaRecordByAphiaID/138675\"\n",
    "r = requests.get(url)\n",
    "#print(r.text)\n",
    "print(type(r.json()))\n",
    "\n",
    "data = r.json()\n",
    "#print(data) \n",
    "\n",
    "# Format the record into one line\n",
    "row = []\n",
    "for e in data.keys():\n",
    "    #print(e)\n",
    "    #print(data[e])\n",
    "    row.append(data[e])\n",
    "\n",
    "# Add the line into the dataframe\n",
    "df.append(row)\n",
    "\n",
    "#Finalize the dataframe with column names\n",
    "resultat = pd.DataFrame(df, columns=data.keys())\n",
    "\n",
    "resultat\n"
   ]
  },
  {
   "cell_type": "markdown",
   "id": "92725a73",
   "metadata": {},
   "source": [
    "## Renseigner tout le fichier excel"
   ]
  },
  {
   "cell_type": "code",
   "execution_count": null,
   "id": "c36889b4",
   "metadata": {},
   "outputs": [],
   "source": [
    "import json \n",
    "import requests\n",
    "import pandas as pd\n"
   ]
  },
  {
   "cell_type": "code",
   "execution_count": null,
   "id": "8129c23f",
   "metadata": {},
   "outputs": [],
   "source": [
    "# Fonction pour avoir les données worms \n",
    "def get_worms_data(aphiaid):\n",
    "    url = f\"https://www.marinespecies.org/rest/AphiaRecordByAphiaID/{aphiaid}\"\n",
    "    response = requests.get(url)\n",
    "    if response.status_code == 200:\n",
    "        data = response.json()\n",
    "        return data\n",
    "    else:\n",
    "        return None"
   ]
  },
  {
   "cell_type": "code",
   "execution_count": null,
   "id": "66e68ea8",
   "metadata": {},
   "outputs": [],
   "source": [
    "#https://www.marinespecies.org/aphia.php?p=taxdetails&id=137092\n",
    "data = get_worms_data(137092)\n",
    "\n",
    "type(data)\n",
    "nom_colonnes = data.keys()\n",
    "\n",
    "print(nom_colonnes)\n",
    "\n",
    "data"
   ]
  },
  {
   "cell_type": "code",
   "execution_count": null,
   "id": "c945c426",
   "metadata": {},
   "outputs": [],
   "source": [
    "## Lire le fichier Excel\n",
    "\n",
    "\n",
    "# Lire le fichier Excel\n",
    "excel_file = \"C:\\Travail\\Enseignement\\Cours_M2_python\\\\2023\\data\\Table_espece_UTF8_simplifie.xlsx\"\n",
    "sheet_name = \"Espece_incomplet\"\n",
    "df = pd.read_excel(excel_file, sheet_name)\n",
    "\n",
    "print(df.columns)\n",
    "df\n"
   ]
  },
  {
   "cell_type": "code",
   "execution_count": null,
   "id": "6c8f48d6",
   "metadata": {},
   "outputs": [],
   "source": [
    "# Parcourir les lignes\n",
    "for index, row in df.iterrows():\n",
    "    aphiaid = row['aphiaid_accepted']  # Colonne du Excel avec les AphiaID\n",
    "    worms_data = get_worms_data(aphiaid)\n",
    "    print(aphiaid)\n",
    "    if worms_data:\n",
    "        # Parcourir dynamiquement toutes les colonnes du DataFrame\n",
    "        for column in df.columns:\n",
    "            for k in worms_data.keys():\n",
    "                if column.lower() == k.lower() : \n",
    "                    print('\\t column {0} et data.k {1}'.format(column, k))\n",
    "                    df.at[index, column] = worms_data[k]\n",
    "        \n",
    "\n"
   ]
  },
  {
   "cell_type": "markdown",
   "id": "859dc4e9",
   "metadata": {},
   "source": [
    "### Complement par rapport au cours\n",
    "\n",
    "Certaines colonnes ne correspondent pas tout à fait mais peuvent être renseignées : \n",
    "- ScientificName_accepted\n",
    "- Authority_accepted\n",
    "- taxonRank\n",
    "- taxon_APHIAID"
   ]
  },
  {
   "cell_type": "code",
   "execution_count": null,
   "id": "7aba9b22",
   "metadata": {},
   "outputs": [],
   "source": [
    "# Parcourir les lignes\n",
    "for index, row in df.iterrows():\n",
    "    aphiaid = row['aphiaid_accepted']  # Colonne du Excel avec les AphiaID\n",
    "    worms_data = get_worms_data(aphiaid)\n",
    "    print(aphiaid)\n",
    "    if worms_data:\n",
    "        # Parcourir dynamiquement toutes les colonnes du DataFrame\n",
    "        for column in df.columns:\n",
    "            for k in worms_data.keys():\n",
    "                if column.lower() == k.lower() : \n",
    "                    print('\\t column {0} et data.k {1}'.format(column, k))\n",
    "                    df.at[index, column] = worms_data[k]\n",
    "        #Certaines colonnes ne correspondent pas tout à fait mais peuvent être renseignées (sauf Subgenus\tSpecies\tSubspecies)\n",
    "        ##ScientificName_accepted\tAuthority_accepted \ttaxonRank\n",
    "        df.at[index, 'ScientificName_accepted'] = worms_data['scientificname']\n",
    "        df.at[index, 'Authority_accepted'] = worms_data['valid_authority']\n",
    "        df.at[index, 'taxonRank'] = worms_data['rank']\n",
    "        df.at[index, 'taxon_APHIAID']= worms_data['valid_AphiaID']\n",
    "        \n"
   ]
  },
  {
   "cell_type": "code",
   "execution_count": null,
   "id": "b06050e1",
   "metadata": {},
   "outputs": [],
   "source": [
    "df"
   ]
  },
  {
   "cell_type": "markdown",
   "id": "b2fe044d",
   "metadata": {},
   "source": [
    "## Récupérer les noms communs (vernaculaires)\n",
    "\n",
    "https://www.marinespecies.org/rest/AphiaVernacularsByAphiaID/{ID}\n",
    "\n",
    "Documentation REST [ici](https://www.marinespecies.org/rest/)"
   ]
  },
  {
   "cell_type": "code",
   "execution_count": null,
   "id": "c1329cf6",
   "metadata": {},
   "outputs": [],
   "source": [
    "# Fonction pour avoir les données worms \n",
    "def get_worms_vernaculars(aphiaid):\n",
    "    url = f\"https://www.marinespecies.org/rest/AphiaVernacularsByAphiaID/{aphiaid}\"\n",
    "    response = requests.get(url)\n",
    "    if response.status_code == 200:\n",
    "        data = response.json()\n",
    "        return data\n",
    "    else:\n",
    "        return None"
   ]
  },
  {
   "cell_type": "code",
   "execution_count": null,
   "id": "5abaa37a",
   "metadata": {},
   "outputs": [],
   "source": [
    "test = get_worms_vernaculars(137092)\n",
    "\n",
    "# On récupère une liste de {'vernacular': 'xxx', 'language_code': 'yyy', 'language': 'zzz'}\n",
    "test"
   ]
  },
  {
   "cell_type": "code",
   "execution_count": null,
   "id": "b46f10ef",
   "metadata": {},
   "outputs": [],
   "source": [
    "for e in test:\n",
    "    if e['language_code'] == 'fra' or  e['language_code'] == 'eng' :\n",
    "        print(e['vernacular']) "
   ]
  },
  {
   "cell_type": "code",
   "execution_count": null,
   "id": "72c13a9d",
   "metadata": {},
   "outputs": [],
   "source": [
    "# Parcourir les lignes\n",
    "for index, row in df.iterrows():\n",
    "    aphiaid = row['aphiaid_accepted']  # Colonne du Excel avec les AphiaID\n",
    "    worms_data = get_worms_vernaculars(aphiaid)\n",
    "    print(aphiaid)\n",
    "    if worms_data:\n",
    "        # Parcourir dynamiquement toutes les colonnes du DataFrame\n",
    "        # Renseigner nom_commun_fr\tnom_commun_en\n",
    "        for e in worms_data:\n",
    "            if e['language_code'] == 'fra'  :\n",
    "                print(e['vernacular']) \n",
    "                df.at[index, 'nom_commun_fr'] = e['vernacular']\n",
    "            elif e['language_code'] == 'eng' :\n",
    "                df.at[index, 'nom_commun_en'] = e['vernacular']\n",
    "                    \n"
   ]
  },
  {
   "cell_type": "code",
   "execution_count": null,
   "id": "09e39b31",
   "metadata": {},
   "outputs": [],
   "source": [
    "df"
   ]
  },
  {
   "cell_type": "markdown",
   "id": "bf56b5cc",
   "metadata": {},
   "source": [
    "## Sauver les résultats"
   ]
  },
  {
   "cell_type": "code",
   "execution_count": null,
   "id": "e4cd2bc2",
   "metadata": {},
   "outputs": [],
   "source": [
    "# Enregistrer les modifications dans le fichier Excel d'origine\n",
    "new_excel_file = \"C:\\Travail\\Enseignement\\Cours_M2_python\\\\2023\\data\\Table_espece_UTF8_simplifie_complet.xlsx\"\n",
    "df.to_excel(new_excel_file, sheet_name=sheet_name, index=False)"
   ]
  }
 ],
 "metadata": {
  "kernelspec": {
   "display_name": "Python 3 (ipykernel)",
   "language": "python",
   "name": "python3"
  },
  "language_info": {
   "codemirror_mode": {
    "name": "ipython",
    "version": 3
   },
   "file_extension": ".py",
   "mimetype": "text/x-python",
   "name": "python",
   "nbconvert_exporter": "python",
   "pygments_lexer": "ipython3",
   "version": "3.10.6"
  }
 },
 "nbformat": 4,
 "nbformat_minor": 5
}
